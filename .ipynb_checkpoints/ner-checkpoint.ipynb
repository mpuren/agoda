{
 "cells": [
  {
   "cell_type": "code",
   "execution_count": 14,
   "id": "2af63eba",
   "metadata": {},
   "outputs": [],
   "source": [
    "import os \n",
    "import re\n",
    "import json\n",
    "\n",
    "from transformers import AutoTokenizer, AutoModelForTokenClassification\n",
    "from transformers import pipeline\n",
    "\n",
    "path_to_agoda = \"/home/atom/Bureau/Aurelien/epitech/agoda\"\n",
    "path_to_json = os.path.join(path_to_agoda,\"json_data_raw\")\n",
    "\n",
    "\n",
    "  \n",
    "# Opening JSON file\n",
    "f = open(os.path.join(path_to_agoda,\"json_data\",\"FR_3R_5L_1889-11-26_p0175.json\"),encoding=\"utf-8\")\n",
    "  \n",
    "# returns JSON object as \n",
    "# a dictionary\n",
    "data = json.load(f)\n",
    "f.close()"
   ]
  },
  {
   "cell_type": "code",
   "execution_count": 31,
   "id": "7466370b",
   "metadata": {},
   "outputs": [
    {
     "data": {
      "text/plain": [
       "\"Discussion des conclusions du rapport du 7e bu- reau sur l'élection de M. Dillon dans la 1re cir- conscription de l'arrondissement de Lorient (Morbihan). — Demande d'ajournement : MM. Georges Laguerre, le comte Lemercier, rap- porteur. Rejet. = Discussion : MM. Cuneo d'Ornano, le comte Lemercier, rapporteur, le comte de Douville-Maillefeu, Georges Laguerre. Adoption, au scrutin, des conclusions du bu- reau et annulation de l'élection.\""
      ]
     },
     "execution_count": 31,
     "metadata": {},
     "output_type": "execute_result"
    }
   ],
   "source": [
    "re.sub(\"-\\n\",\"\",e) for e in entries"
   ]
  },
  {
   "cell_type": "code",
   "execution_count": 34,
   "id": "e7fe1295",
   "metadata": {},
   "outputs": [
    {
     "name": "stdout",
     "output_type": "stream",
     "text": [
      "Journal officiel du 27 Novembre 1889\n",
      "CHAMBRE — SÉANCE DU 26 NOVEMBRE\n",
      "Session extraordinaire de 1889 175\n",
      "CHAMBRE DES DEPUTES\n",
      "5° législature. — Session extraordinaire de 1889.\n",
      "COMPTE RENDU IN EXTENSO. — 10° SÉANCE\n",
      "Séance du mardi 26 novembre.\n",
      "SOMMAIRE\n",
      "Procès-verbal : MM. Paul Déroulède, Georges\n",
      "Laguerre, Briens, Bizouard-Bert, Vernière.\n",
      "Excuses et demandes de congé.\n",
      "Communication d'une lettre de M. le ministre\n",
      "des finances relative à la nomination d'un\n",
      "membre de la commission de contrôle de la\n",
      "circulation monétaire.\n",
      "Rapports d'élections par MM. Reybert, le comte\n",
      "Le Gonidec de Traissan, Delaunay.\n",
      "Discussion des conclusions du rapport du 7e bu-\n",
      "reau sur l'élection de M. Dillon dans la 1re cir-\n",
      "conscription de l'arrondissement de Lorient\n",
      "(Morbihan). — Demande d'ajournement : MM.\n",
      "Georges Laguerre, le comte Lemercier, rap-\n",
      "porteur. Rejet. = Discussion : MM. Cuneo\n",
      "d'Ornano, le comte Lemercier, rapporteur, le\n",
      "comte de Douville-Maillefeu, Georges Laguerre.\n",
      "Adoption, au scrutin, des conclusions du bu-\n",
      "reau et annulation de l'élection.\n",
      "Discussion des conclusions du rapport du 10e\n",
      "bureau sur l'élection de M. Arnault dans la 2e\n",
      "circonscription de Montauban (Tarn-et-Ga-\n",
      "ronne) : MM. Leygues, Arnault. — Demande,\n",
      "par M. Leygues, d'invalidation de l'élection.\n",
      "Adoption au scrutin.\n",
      "Dépôt, par M. de Soland et plusieurs de ses col-\n",
      "lègues, d'une proposition de loi ayant pour\n",
      "objet de frapper d'un droit de douane, à leur\n",
      "entrée en France, les chanvres bruts ou pré-\n",
      "parés provenant de l'étranger.\n",
      "Dépôt, par M. le marquis de La Ferronnays et\n",
      "plusieurs de ses collègues, d'une proposition\n",
      "de résolution tendant à la nomination d'une\n",
      "commission de onze membres à l'effet de\n",
      "reviser, s'il y a lieu, le régime légal et admi-\n",
      "nistratif en vigueur pour la protection du vi-\n",
      "gnoble français contre le phylloxera.\n",
      "Congés.\n",
      "PRESIDENCE DE M. CHARLES FLOQUET.\n",
      "La séance est ouverte à deux heures.\n",
      "M. Henri Lavertujon, l'un des secrétaires,\n",
      "donne lecture du procès-verbal de la séance\n",
      "d'hier.\n",
      "M. Paul Déroulede. Je demande la pa-\n",
      "role.\n",
      "M. le président. Vous avez la parole.\n",
      "M. Paul Déroulède. Messieurs, j'ai de-\n",
      "mandé la parole pour faire une rectification\n",
      "au procès-verbal et pour m'expliquer au\n",
      "sujet du rappel à l'ordre qui m'a été infligé.\n",
      "La plus importante des rectifications con-\n",
      "cerne le procès-verbal. En effet, au mo-\n",
      "ment où la Chambre s'est prononcée en\n",
      "majorité en faveur de la validation d'un de\n",
      "nos collègues de l'Ardèche, ni mes amis ni\n",
      "moi n'avons applaudi au succès de telle ou\n",
      "telle candidature représentant telle ou telle\n",
      "opinion ; ni mes amis ni moi n'avons même\n",
      "applaudi à la défaite de ce que j'appellerai le\n",
      "groupe des invalideurs... (Bruit à gauche.)\n",
      "Voix au centre. Ce n'est pas une rectifica-\n",
      "tion.\n",
      "M. Paul Déroulède. Mes amis et moi\n",
      "avons applaudi à ce que nous avons cru, à\n",
      "ce que nous croyons encore être la forma-\n",
      "tion spontanée d'une majorité de con-\n",
      "science, de justice, de tolérance et d'union.\n",
      "(Applaudissements sur quelques bancs à l'ex-\n",
      "trémité gauche de la salle. — Exclamations\n",
      "au centre et à qauche.)\n",
      "M. Gustave Rivet. La tolérance pour\n",
      "toutes les ignominies qui ont été commises\n",
      "pendant la période électorale.\n",
      "M. Paul Déroulède. Le procès-verbal\n",
      "attribue à notre groupe et à moi des pa-\n",
      "roles qu'aucun de nous n'a prononcées. Je\n",
      "n'ai jamais dit au sujet de cette validation\n",
      "ce que me fait dire le Journal officiel :\n",
      "« Oui, nous les validerons tous! »\n",
      "Le secrétaire sténographe qui m'a prêté\n",
      "ces paroles m'a sans doute pris pour quel-\n",
      "qu'un des membres de cette majorité mi-\n",
      "nistérielle qui peut tout ce qu'elle veut.\n",
      "(Bruit.) Nous ne sommes, nous, qu'une mi-\n",
      "norité...\n",
      "Un membre au centre. Vous avez été la\n",
      "majorité hier!\n",
      "M. Paul Déroulède. ...nous ne sommes,\n",
      "nous, qu'une minorité, et ce langage n'au-\n",
      "rait eu aucun sens dans la bouche d'aucun\n",
      "de nous.\n",
      "M. César Duval. Mais rien ne vous auto-\n",
      "rise à insulter la majorité !\n",
      "M. Paul Déroulède. Je n'ai pas insulté,\n",
      "je n'insulte pas, de parti pris, la majorité;\n",
      "au contraire je l'ai applaudie hier dans sa\n",
      "première manifestation de justice et de\n",
      "conscience. (Très bien ! sur quelques bancs\n",
      "à l'extrémité gauche de la salle. — Bruit.)\n",
      "M. le président. Monsieur Déroulède, il\n",
      "faudrait vous renfermer dans les limites\n",
      "d'une rectification au procès-verbal. Vous\n",
      "pouvez dire en quoi vous le trouvez inexact,\n",
      "Mais rien de plus.\n",
      "M. Paul Déroulède. La rectification porte\n",
      "sur le point suivant: Je n'ai pas dit que\n",
      "nous validerions toutes les élections; j'ai\n",
      "dit, et je le répète : « Nous sommes pour la\n",
      "liberté contre les oppresseurs !...» (Excla-\n",
      "mations ironiques au centre et à gauche.)\n",
      "M. Jules Maigne. C'est pour cela que\n",
      "vous êtes le représentant de la dictature.\n",
      "M. Paul Déroulède. « ...nous sommes\n",
      "pour la liberté pour tous. Vive la liberté ! »\n",
      "Et la preuve que ce sont bien là les paro-\n",
      "les que j'ai prononcées, c'est qu'elles sont\n",
      "ainsi rapportées dans le compte rendu ana-\n",
      "lytique et ainsi rapportées dans la plupart\n",
      "des journaux du matin, et que le compte\n",
      "rendu sténographique seul donne une autre\n",
      "version.\n",
      "Quant au rappel à l'ordre que ces paroles\n",
      "m'ont attiré, je ne proteste pas contre lui ;\n",
      "je l'accepte, au contraire, comme un sym-\n",
      "bole, comme un souvenir du centenaire de\n",
      "la Révolution française fêté par la Répu-\n",
      "blique parlementaire. (Exclamations en\n",
      "sens divers. — Applaudissements sur quel-\n",
      "ques bancs à l'extrémité gauche de la salle.)\n",
      "M. Laguerre. Le Journal officiel me\n",
      "porte comme m'étant abstenu dans le vote\n",
      "sur la validation de l'élection de M. de\n",
      "La Martinière ; je déclare que j'étais à ma\n",
      "place et que j'ai déposé moi-même mon\n",
      "bulletin de vote en faveur de la validation.\n",
      "Je m'étonne de cette erreur, et je la re-\n",
      "grette.\n",
      "Je fais la même observation pour mon\n",
      "ami M. Martineau, qui a émis le même vote\n",
      "et qui est porté comme s'étant abstenu.\n",
      "M. Briens. Messieurs, lorsque M. d'Es-\n",
      "tourmel m'a interrompu pour demander\n",
      "quel était l'auteur de l'article que j'ai cité,\n",
      "on prête les paroles que j'ai prononcées à\n",
      "M. le rapporteur, tandis que c'est moi seul\n",
      "qui ai répondu à M. d'Estourmel. Je de-\n",
      "mande que la rectification soit faite au\n",
      "procès-verbal.\n",
      "M. Bizouard-Bert. Nous avons été rete-\n",
      "nus très tard dans nos bureaux pendant la\n",
      "séance d'hier; si j'avais été présent à la\n",
      "première partie de la séance, je déclare que\n",
      "j'aurais voté « pour » la proposition de\n",
      "M. Ferroul et pour celle de M. Maxime Le-\n",
      "comte, et cela dans un sentiment d'huma-\n",
      "nité.\n",
      "M. Vernière. Au nom de M. Ménard-Do-\n",
      "rian, retenu dans une commission, je suis\n",
      "chargé de déclarer qu'il s'est abstenu vo-\n",
      "lontairement, hier, dans le vote relatif à\n",
      "l'élection de M. de La Martinière, tandis que\n",
      "dans le Journal officiel il est porté comme\n",
      "ayant voté « contre ».\n",
      "M. le président. Il n'y a pas d'autres\n",
      "observations?...\n",
      "Le procès-verbal est adopté.\n",
      "EXCUSES ET DEMANDES DE CONGE\n",
      "M. le président. M. Le Cour s'excuse de\n",
      "ne pouvoir assister à la séance de ce\n",
      "jour.\n",
      "MM. Girodet et Baïhaut s'excusent de ne\n",
      "pouvoir assister à la séance de ce jour, et\n",
      "demandent des congés.\n",
      "Les demandes seront renvoyées à la com-\n",
      "mission des congés.\n",
      "COMMUNICATION DU GOUVERNEMENT\n",
      "M. le président. Jai reçu de M. le minis-\n",
      "tre des finances la lettre suivante :\n",
      "« Paris, 1e 11 novembre 1889.\n",
      "« Monsieur le président,\n",
      "«  J'ai l'honneur de vous prier de vouloir\n",
      "bien proposer à la Chambre des députés\n",
      "de désigner un de ses membres pour faire\n",
      "partie, en remplacement de M. Fernand\n",
      "Faure, de la commission de contrôle de la\n",
      "circulation monétaire instituée par la loi du\n",
      "31 juillet 1879.\n",
      "« Cette commission devant, aux termes\n",
      "de l'article 5 de la loi précitée, se réunir à\n",
      "la fin de chaque année, il serait à désirer\n",
      "que la Chambre procédât à la nomination\n",
      "dont il s'agit dans l'une de ses premières\n",
      "séances.\n",
      "« Agréez, monsieur le président, l'assu-\n",
      "rance de ma très haute considération,\n",
      "“ Le ministre des finances,\n",
      "« Signé : ROUVIER. »\n",
      "Acte est donné de la communication dont\n",
      "la Chambre vient d'entendre la lecture. Elle\n",
      "sera insérée au procès-verbal de la séance\n",
      "et déposée aux archives.\n",
      "La Chambre ayant fixé à jeudi lélection\n",
      "de deux membres de la commission supé-\n",
      "rieure de la caisse nationale des retraites\n",
      "pour la vieillesse et celle de deux membres\n",
      "de la commission de surveillance des Cais-\n",
      "ses d'amortissement et des dépôts et consi-\n",
      "gnations, je vous proposerai, messieurs, de\n",
      "décider que l'élection d'un membre de la\n",
      "commission de contrôle de la circulation\n",
      "monétaire aura lieu samedi prochain.\n",
      "Il n'y a pas d'opposition?...\n",
      "L'élection sera mise en tête de l'ordre du\n",
      "jour de samedi.\n",
      "SUITE DE LA VÉRIFICATION DES POUVOIRS\n",
      "M. le président. L'ordre du jour appelle\n",
      "la suite de la vérification des pouvoirs.\n",
      "M. Reybert a la parole pour donner lec-\n",
      "ture d'un rapport sur une élection non con-\n",
      "testée.\n",
      "M. Reybert, rapporteur. — Département\n",
      "de la Corrèze, arrondissement de Tulle, 1re\n",
      "circonscription.\n",
      "Les élections du 22 septembre ont donné\n",
      "les résultats suivants :\n",
      "Electeurs inscrits, 17,050, dont le quart\n",
      "est de 4,263.\n",
      "Nombre des votants, 12,322.\n",
      "Bulletins blancs et nuls, à déduire, 133.\n",
      "Suffrages exprimés, 12,189.\n",
      "Ont obtenu\n",
      "MM. Borie, député sortant..... 7.508 voix\n",
      "Vachal, ancien député... 4. 748\n",
      "M. Borie a été proclamé député comme\n",
      "ayant réuni un nombre de voix au moins\n",
      "égal à la majorité absolue des suffrages\n"
     ]
    }
   ],
   "source": [
    "entries = []\n",
    "entries_ner = []\n",
    "for d in data :\n",
    "    if len(d[\"text_ocr\"])>0 :\n",
    "        print(d[\"text_ocr\"])\n",
    "        entries.append(d[\"text_ocr\"])\n",
    "        entries_ner.append(d[\"ner_xml\"])\n",
    "entries = [re.sub(\"-\\n\",\"\",e) for e in entries ]  \n",
    "entries = [re.sub(\"\\n\",\" \",e) for e in entries]"
   ]
  },
  {
   "cell_type": "code",
   "execution_count": 8,
   "id": "aa9e6e46",
   "metadata": {},
   "outputs": [
    {
     "data": {
      "application/vnd.jupyter.widget-view+json": {
       "model_id": "4a7c0080f5cb47f38ad8db6d547622ab",
       "version_major": 2,
       "version_minor": 0
      },
      "text/plain": [
       "Downloading:   0%|          | 0.00/2.24G [00:00<?, ?B/s]"
      ]
     },
     "metadata": {},
     "output_type": "display_data"
    },
    {
     "data": {
      "text/plain": [
       "[{'entity': 'I-PER',\n",
       "  'score': 0.9997861,\n",
       "  'index': 1,\n",
       "  'word': '▁Al',\n",
       "  'start': 0,\n",
       "  'end': 2},\n",
       " {'entity': 'I-PER',\n",
       "  'score': 0.9998591,\n",
       "  'index': 2,\n",
       "  'word': 'ya',\n",
       "  'start': 2,\n",
       "  'end': 4},\n",
       " {'entity': 'I-PER',\n",
       "  'score': 0.99995816,\n",
       "  'index': 4,\n",
       "  'word': '▁Jasmin',\n",
       "  'start': 10,\n",
       "  'end': 16},\n",
       " {'entity': 'I-PER',\n",
       "  'score': 0.9999584,\n",
       "  'index': 5,\n",
       "  'word': 'e',\n",
       "  'start': 16,\n",
       "  'end': 17},\n",
       " {'entity': 'I-PER',\n",
       "  'score': 0.99998057,\n",
       "  'index': 7,\n",
       "  'word': '▁Andrew',\n",
       "  'start': 23,\n",
       "  'end': 29}]"
      ]
     },
     "execution_count": 8,
     "metadata": {},
     "output_type": "execute_result"
    }
   ],
   "source": [
    "tokenizer = AutoTokenizer.from_pretrained(\"xlm-roberta-large-finetuned-conll03-english\")\n",
    "model = AutoModelForTokenClassification.from_pretrained(\"xlm-roberta-large-finetuned-conll03-english\")"
   ]
  },
  {
   "cell_type": "code",
   "execution_count": 70,
   "id": "0c15503f",
   "metadata": {
    "scrolled": true
   },
   "outputs": [
    {
     "data": {
      "text/plain": [
       "[{'entity': 'I-ORG',\n",
       "  'score': 0.9999906,\n",
       "  'index': 1,\n",
       "  'word': '▁Apple',\n",
       "  'start': 0,\n",
       "  'end': 5},\n",
       " {'entity': 'I-PER',\n",
       "  'score': 0.9999907,\n",
       "  'index': 20,\n",
       "  'word': '▁Steve',\n",
       "  'start': 75,\n",
       "  'end': 80},\n",
       " {'entity': 'I-PER',\n",
       "  'score': 0.9999907,\n",
       "  'index': 21,\n",
       "  'word': '▁Jobs',\n",
       "  'start': 81,\n",
       "  'end': 85},\n",
       " {'entity': 'I-LOC',\n",
       "  'score': 0.9999776,\n",
       "  'index': 23,\n",
       "  'word': '▁Los',\n",
       "  'start': 88,\n",
       "  'end': 91},\n",
       " {'entity': 'I-LOC',\n",
       "  'score': 0.99993885,\n",
       "  'index': 24,\n",
       "  'word': '▁Alto',\n",
       "  'start': 92,\n",
       "  'end': 96},\n",
       " {'entity': 'I-LOC',\n",
       "  'score': 0.9999759,\n",
       "  'index': 25,\n",
       "  'word': 's',\n",
       "  'start': 96,\n",
       "  'end': 97},\n",
       " {'entity': 'I-LOC',\n",
       "  'score': 0.99996316,\n",
       "  'index': 27,\n",
       "  'word': '▁Cali',\n",
       "  'start': 101,\n",
       "  'end': 105},\n",
       " {'entity': 'I-LOC',\n",
       "  'score': 0.999608,\n",
       "  'index': 28,\n",
       "  'word': 'for',\n",
       "  'start': 105,\n",
       "  'end': 108},\n",
       " {'entity': 'I-LOC',\n",
       "  'score': 0.99972934,\n",
       "  'index': 29,\n",
       "  'word': 'nie',\n",
       "  'start': 108,\n",
       "  'end': 111},\n",
       " {'entity': 'I-PER',\n",
       "  'score': 0.9999887,\n",
       "  'index': 31,\n",
       "  'word': '▁Steve',\n",
       "  'start': 116,\n",
       "  'end': 121},\n",
       " {'entity': 'I-PER',\n",
       "  'score': 0.9999908,\n",
       "  'index': 32,\n",
       "  'word': '▁Jobs',\n",
       "  'start': 122,\n",
       "  'end': 126},\n",
       " {'entity': 'I-PER',\n",
       "  'score': 0.9999887,\n",
       "  'index': 34,\n",
       "  'word': '▁Steve',\n",
       "  'start': 128,\n",
       "  'end': 133},\n",
       " {'entity': 'I-PER',\n",
       "  'score': 0.99999094,\n",
       "  'index': 35,\n",
       "  'word': '▁W',\n",
       "  'start': 134,\n",
       "  'end': 135},\n",
       " {'entity': 'I-PER',\n",
       "  'score': 0.99997723,\n",
       "  'index': 36,\n",
       "  'word': 'ozni',\n",
       "  'start': 135,\n",
       "  'end': 139},\n",
       " {'entity': 'I-PER',\n",
       "  'score': 0.99998796,\n",
       "  'index': 37,\n",
       "  'word': 'ak',\n",
       "  'start': 139,\n",
       "  'end': 141},\n",
       " {'entity': 'I-PER',\n",
       "  'score': 0.99999547,\n",
       "  'index': 39,\n",
       "  'word': '▁Ronald',\n",
       "  'start': 145,\n",
       "  'end': 151},\n",
       " {'entity': 'I-PER',\n",
       "  'score': 0.9999964,\n",
       "  'index': 40,\n",
       "  'word': '▁Wayne',\n",
       "  'start': 152,\n",
       "  'end': 157},\n",
       " {'entity': 'I-ORG',\n",
       "  'score': 0.9999864,\n",
       "  'index': 63,\n",
       "  'word': 'Apple',\n",
       "  'start': 243,\n",
       "  'end': 248},\n",
       " {'entity': 'I-ORG',\n",
       "  'score': 0.99998736,\n",
       "  'index': 64,\n",
       "  'word': '▁Computer',\n",
       "  'start': 249,\n",
       "  'end': 257},\n",
       " {'entity': 'I-PER',\n",
       "  'score': 0.9999863,\n",
       "  'index': 98,\n",
       "  'word': '▁Paul',\n",
       "  'start': 396,\n",
       "  'end': 400},\n",
       " {'entity': 'I-PER',\n",
       "  'score': 0.9999318,\n",
       "  'index': 100,\n",
       "  'word': '▁Pierre',\n",
       "  'start': 404,\n",
       "  'end': 410}]"
      ]
     },
     "execution_count": 70,
     "metadata": {},
     "output_type": "execute_result"
    }
   ],
   "source": [
    "classifier = pipeline(\"ner\", model=model, tokenizer=tokenizer,aggregation_strategy=None)\n",
    "classifier(\"Apple est créée le 1er avril 1976 dans le garage de la maison d'enfance de Steve Jobs à Los Altos en Californie par Steve Jobs, Steve Wozniak et Ronald Wayne14, puis constituée sous forme de société le 3 janvier 1977 à l'origine sous le nom d'Apple Computer, mais pour ses 30 ans et pour refléter la diversification de ses produits, le mot « computer » est retiré le 9 janvier 2015. Sans oublier Paul et Pierre\")"
   ]
  },
  {
   "cell_type": "code",
   "execution_count": 74,
   "id": "0957c661",
   "metadata": {},
   "outputs": [
    {
     "data": {
      "text/plain": [
       "[{'entity_group': 'ORG',\n",
       "  'score': 0.9999902,\n",
       "  'word': 'Apple',\n",
       "  'start': 0,\n",
       "  'end': 5},\n",
       " {'entity_group': 'PER',\n",
       "  'score': 0.9999912,\n",
       "  'word': 'Steve Jobs',\n",
       "  'start': 75,\n",
       "  'end': 85},\n",
       " {'entity_group': 'LOC',\n",
       "  'score': 0.9999655,\n",
       "  'word': 'Los Altos',\n",
       "  'start': 88,\n",
       "  'end': 97},\n",
       " {'entity_group': 'LOC',\n",
       "  'score': 0.99980116,\n",
       "  'word': 'Californie',\n",
       "  'start': 101,\n",
       "  'end': 111},\n",
       " {'entity_group': 'PER',\n",
       "  'score': 0.9999906,\n",
       "  'word': 'Steve Jobs',\n",
       "  'start': 116,\n",
       "  'end': 126},\n",
       " {'entity_group': 'PER',\n",
       "  'score': 0.9999864,\n",
       "  'word': 'Steve Wozniak',\n",
       "  'start': 128,\n",
       "  'end': 141},\n",
       " {'entity_group': 'PER',\n",
       "  'score': 0.9999961,\n",
       "  'word': 'Ronald Wayne',\n",
       "  'start': 145,\n",
       "  'end': 157},\n",
       " {'entity_group': 'ORG',\n",
       "  'score': 0.9999864,\n",
       "  'word': 'Apple Computer',\n",
       "  'start': 243,\n",
       "  'end': 257}]"
      ]
     },
     "execution_count": 74,
     "metadata": {},
     "output_type": "execute_result"
    }
   ],
   "source": [
    "classifier = pipeline(\"ner\", model=model, tokenizer=tokenizer,aggregation_strategy=\"simple\")\n",
    "classifier(\"Apple est créée le 1er avril 1976 dans le garage de la maison d'enfance de Steve Jobs à Los Altos en Californie par Steve Jobs, Steve Wozniak et Ronald Wayne14, puis constituée sous forme de société le 3 janvier 1977 à l'origine sous le nom d'Apple Computer, mais pour ses 30 ans et pour refléter la diversification de ses produits, le mot « computer » est retiré le 9 janvier 2015.\")"
   ]
  },
  {
   "cell_type": "code",
   "execution_count": 40,
   "id": "07071128",
   "metadata": {
    "scrolled": true
   },
   "outputs": [
    {
     "data": {
      "text/plain": [
       "\"Discussion des conclusions du rapport du 7e bureau sur l'élection de M. Dillon dans la 1re circonscription de l'arrondissement de Lorient (Morbihan). — Demande d'ajournement : MM. Georges Laguerre, le comte Lemercier, rapporteur. Rejet. = Discussion : MM. Cuneo d'Ornano, le comte Lemercier, rapporteur, le comte de Douville-Maillefeu, Georges Laguerre. Adoption, au scrutin, des conclusions du bureau et annulation de l'élection.\""
      ]
     },
     "execution_count": 40,
     "metadata": {},
     "output_type": "execute_result"
    }
   ],
   "source": [
    "entries[10]"
   ]
  },
  {
   "cell_type": "code",
   "execution_count": 179,
   "id": "dfd59bef",
   "metadata": {
    "scrolled": true
   },
   "outputs": [],
   "source": [
    "text = \"I live in Ivry-sur Seine.\""
   ]
  },
  {
   "cell_type": "code",
   "execution_count": 78,
   "id": "f2f26c4b",
   "metadata": {},
   "outputs": [
    {
     "data": {
      "text/plain": [
       "\"Discussion des conclusions du rapport du 7e bureau sur l'élection de M. Dillon dans la 1re circonscription de l'arrondissement de Lorient (Morbihan). — Demande d'ajournement : MM. Georges Laguerre, le comte Lemercier, rapporteur. Rejet. = Discussion : MM. Cuneo d'Ornano, le comte Lemercier, rapporteur, le comte de Douville-Maillefeu, Georges Laguerre. Adoption, au scrutin, des conclusions du bureau etannulation de l'élection. Sans oublier Marie Puren Nicolas Bourgeois\""
      ]
     },
     "execution_count": 78,
     "metadata": {},
     "output_type": "execute_result"
    }
   ],
   "source": [
    "text"
   ]
  },
  {
   "cell_type": "code",
   "execution_count": 180,
   "id": "a8587506",
   "metadata": {
    "scrolled": true
   },
   "outputs": [
    {
     "data": {
      "text/plain": [
       "[{'entity': 'I-LOC',\n",
       "  'score': 0.9999647,\n",
       "  'index': 4,\n",
       "  'word': '▁I',\n",
       "  'start': 10,\n",
       "  'end': 11},\n",
       " {'entity': 'I-LOC',\n",
       "  'score': 0.99990463,\n",
       "  'index': 5,\n",
       "  'word': 'vr',\n",
       "  'start': 11,\n",
       "  'end': 13},\n",
       " {'entity': 'I-LOC',\n",
       "  'score': 0.999954,\n",
       "  'index': 6,\n",
       "  'word': 'y',\n",
       "  'start': 13,\n",
       "  'end': 14},\n",
       " {'entity': 'I-LOC',\n",
       "  'score': 0.999895,\n",
       "  'index': 7,\n",
       "  'word': '-',\n",
       "  'start': 14,\n",
       "  'end': 15},\n",
       " {'entity': 'I-LOC',\n",
       "  'score': 0.99942076,\n",
       "  'index': 8,\n",
       "  'word': 'sur',\n",
       "  'start': 15,\n",
       "  'end': 18},\n",
       " {'entity': 'I-LOC',\n",
       "  'score': 0.9999404,\n",
       "  'index': 9,\n",
       "  'word': '▁Seine',\n",
       "  'start': 19,\n",
       "  'end': 24}]"
      ]
     },
     "execution_count": 180,
     "metadata": {},
     "output_type": "execute_result"
    }
   ],
   "source": [
    "classifier = pipeline(\"ner\", model=model, tokenizer=tokenizer)\n",
    "classifier(text)"
   ]
  },
  {
   "cell_type": "code",
   "execution_count": 181,
   "id": "1e695c83",
   "metadata": {
    "scrolled": true
   },
   "outputs": [
    {
     "data": {
      "text/plain": [
       "[{'entity_group': 'LOC',\n",
       "  'score': 0.9998465,\n",
       "  'word': 'Ivry-sur Seine',\n",
       "  'start': 10,\n",
       "  'end': 24}]"
      ]
     },
     "execution_count": 181,
     "metadata": {},
     "output_type": "execute_result"
    }
   ],
   "source": [
    "classifier = pipeline(\"ner\", model=model, tokenizer=tokenizer,aggregation_strategy=\"simple\")\n",
    "classifier(text)"
   ]
  },
  {
   "cell_type": "code",
   "execution_count": 135,
   "id": "0c166d6e",
   "metadata": {
    "scrolled": true
   },
   "outputs": [
    {
     "data": {
      "text/plain": [
       "[{'entity_group': 'PER',\n",
       "  'score': 0.9999954,\n",
       "  'word': 'PierreBourgeois',\n",
       "  'start': 0,\n",
       "  'end': 16},\n",
       " {'entity_group': 'LOC',\n",
       "  'score': 0.9999616,\n",
       "  'word': 'Ivry-sur-seine',\n",
       "  'start': 26,\n",
       "  'end': 40}]"
      ]
     },
     "execution_count": 135,
     "metadata": {},
     "output_type": "execute_result"
    }
   ],
   "source": [
    "classifier = pipeline(\"ner\", model=model, tokenizer=tokenizer,aggregation_strategy=\"first\")\n",
    "classifier(text)"
   ]
  },
  {
   "cell_type": "code",
   "execution_count": 116,
   "id": "e4df35cb",
   "metadata": {
    "scrolled": true
   },
   "outputs": [
    {
     "data": {
      "text/plain": [
       "[{'entity_group': 'LOC',\n",
       "  'score': 0.9999958,\n",
       "  'word': 'Los',\n",
       "  'start': 0,\n",
       "  'end': 3},\n",
       " {'entity_group': 'LOC',\n",
       "  'score': 0.9999005,\n",
       "  'word': 'Californie',\n",
       "  'start': 13,\n",
       "  'end': 23},\n",
       " {'entity_group': 'PER',\n",
       "  'score': 0.83272135,\n",
       "  'word': 'PierreVernus.',\n",
       "  'start': 24,\n",
       "  'end': 38},\n",
       " {'entity_group': 'PER',\n",
       "  'score': 0.9999897,\n",
       "  'word': 'Dillon',\n",
       "  'start': 111,\n",
       "  'end': 117},\n",
       " {'entity_group': 'LOC',\n",
       "  'score': 0.79955304,\n",
       "  'word': 'Lorient(Morbihan).',\n",
       "  'start': 169,\n",
       "  'end': 188},\n",
       " {'entity_group': 'PER',\n",
       "  'score': 0.8749646,\n",
       "  'word': 'GeorgesLaguerre,',\n",
       "  'start': 219,\n",
       "  'end': 236},\n",
       " {'entity_group': 'PER',\n",
       "  'score': 0.7488969,\n",
       "  'word': 'Lemercier,',\n",
       "  'start': 246,\n",
       "  'end': 256},\n",
       " {'entity_group': 'PER',\n",
       "  'score': 0.9165876,\n",
       "  'word': \"Cuneod'Ornano,\",\n",
       "  'start': 295,\n",
       "  'end': 310},\n",
       " {'entity_group': 'PER',\n",
       "  'score': 0.74978745,\n",
       "  'word': 'Lemercier,',\n",
       "  'start': 320,\n",
       "  'end': 330},\n",
       " {'entity_group': 'LOC',\n",
       "  'score': 0.8664144,\n",
       "  'word': 'Douville-Maillefeu,',\n",
       "  'start': 355,\n",
       "  'end': 374},\n",
       " {'entity_group': 'PER',\n",
       "  'score': 0.87460256,\n",
       "  'word': 'GeorgesLaguerre.',\n",
       "  'start': 375,\n",
       "  'end': 392},\n",
       " {'entity_group': 'PER',\n",
       "  'score': 0.921973,\n",
       "  'word': 'MariePuren,NicolasBourgeoisPaulLescure',\n",
       "  'start': 482,\n",
       "  'end': 525},\n",
       " {'entity_group': 'LOC',\n",
       "  'score': 0.8741391,\n",
       "  'word': 'Ivry-sur-seine',\n",
       "  'start': 528,\n",
       "  'end': 542}]"
      ]
     },
     "execution_count": 116,
     "metadata": {},
     "output_type": "execute_result"
    }
   ],
   "source": [
    "classifier = pipeline(\"ner\", model=model, tokenizer=tokenizer,aggregation_strategy=\"average\")\n",
    "classifier(text)"
   ]
  },
  {
   "cell_type": "code",
   "execution_count": 182,
   "id": "d0d97f04",
   "metadata": {},
   "outputs": [
    {
     "data": {
      "text/plain": [
       "PreTrainedTokenizerFast(name_or_path='xlm-roberta-large-finetuned-conll03-english', vocab_size=250002, model_max_len=512, is_fast=True, padding_side='right', truncation_side='right', special_tokens={'bos_token': '<s>', 'eos_token': '</s>', 'unk_token': '<unk>', 'sep_token': '</s>', 'pad_token': '<pad>', 'cls_token': '<s>', 'mask_token': AddedToken(\"<mask>\", rstrip=False, lstrip=True, single_word=False, normalized=False)})"
      ]
     },
     "execution_count": 182,
     "metadata": {},
     "output_type": "execute_result"
    }
   ],
   "source": [
    "tokenizer"
   ]
  },
  {
   "cell_type": "code",
   "execution_count": 196,
   "id": "4b09bb4d",
   "metadata": {},
   "outputs": [],
   "source": [
    "text = \"Pierre Bourgeois habite à Ivry-sur-seine.\"\n",
    "\n",
    "encoding = tokenizer(text, return_tensors=\"pt\",padding=True)"
   ]
  },
  {
   "cell_type": "code",
   "execution_count": 197,
   "id": "a28e21cf",
   "metadata": {},
   "outputs": [],
   "source": [
    "outputs = model(**encoding)"
   ]
  },
  {
   "cell_type": "code",
   "execution_count": 198,
   "id": "52bd64f3",
   "metadata": {},
   "outputs": [
    {
     "name": "stdout",
     "output_type": "stream",
     "text": [
      "torch.Size([1, 18, 8])\n"
     ]
    }
   ],
   "source": [
    "logits = outputs.logits\n",
    "print(logits.shape)"
   ]
  },
  {
   "cell_type": "code",
   "execution_count": 207,
   "id": "85c5ea33",
   "metadata": {},
   "outputs": [
    {
     "data": {
      "text/plain": [
       "tensor([[6, 6, 6, 6, 6, 7, 7, 7, 3, 3, 3, 3, 3, 3, 3, 3, 3, 3]])"
      ]
     },
     "execution_count": 207,
     "metadata": {},
     "output_type": "execute_result"
    }
   ],
   "source": [
    "logits.argmax(2)"
   ]
  },
  {
   "cell_type": "code",
   "execution_count": 192,
   "id": "e621436b",
   "metadata": {
    "scrolled": true
   },
   "outputs": [
    {
     "data": {
      "text/plain": [
       "tensor([[[-3.5225, -4.4757, -4.5137,  2.2414, -0.9268, -0.4949,  6.3320,\n",
       "           3.9701],\n",
       "         [-2.8545, -2.2026, -3.3955, -1.9747, -1.9701, -0.3907, 12.1709,\n",
       "          -2.6281],\n",
       "         [-3.0159, -2.4086, -3.5539, -2.6224, -1.6846, -0.2286, 12.2692,\n",
       "          -2.5395],\n",
       "         [-2.8002, -1.9063, -2.7154, -2.0566, -1.4767, -0.8888, 11.1824,\n",
       "          -2.0146],\n",
       "         [-2.8286, -2.1369, -2.9729, -1.7608, -2.0197, -1.0176, 11.6558,\n",
       "          -1.8500],\n",
       "         [-2.4535, -2.8913, -2.3286, -0.0705, -2.9486, -1.3903, -1.3538,\n",
       "          13.8723],\n",
       "         [-2.3726, -2.8261, -2.0482, -0.5947, -3.1503, -1.5268, -0.9117,\n",
       "          14.0129],\n",
       "         [-2.3565, -2.7416, -2.3824, -0.8415, -3.0639, -1.9385, -0.8512,\n",
       "          14.0953],\n",
       "         [-1.0912, -3.3401, -3.3240, 11.7742, -3.2348, -1.4974,  0.5773,\n",
       "          -0.6460],\n",
       "         [-1.3130, -2.9790, -3.0507, 11.0329, -2.6668, -1.5200,  0.8974,\n",
       "          -1.0299],\n",
       "         [-1.0293, -2.8527, -2.8596, 11.6717, -3.1577, -1.8251,  0.6726,\n",
       "          -0.3842],\n",
       "         [-1.4043, -2.5342, -2.1577, 10.5192, -2.8782, -1.5080, -0.1623,\n",
       "           0.8795],\n",
       "         [-1.9128, -2.7674, -3.0955,  9.4039, -1.9549, -0.8307, -0.0473,\n",
       "           0.9836],\n",
       "         [-1.5925, -2.7392, -2.0128, 10.3618, -2.5956, -1.4225, -0.1451,\n",
       "           1.0811],\n",
       "         [-1.3190, -3.2553, -2.5581, 10.8522, -2.4689, -1.0875, -0.0647,\n",
       "           1.0742],\n",
       "         [-1.0494, -3.1691, -2.4712, 11.4780, -3.3221, -1.2783, -0.0445,\n",
       "           0.9604],\n",
       "         [-3.5560, -4.9632, -4.8706,  5.2541, -1.9884, -0.0818,  4.8059,\n",
       "           3.8567],\n",
       "         [-1.9608, -2.7283, -3.3011,  5.7270, -2.3927, -1.5924,  3.6573,\n",
       "           3.1696]],\n",
       "\n",
       "        [[-3.6367, -4.4224, -4.0287, -0.4771, -3.0670, -0.3416,  1.9349,\n",
       "          11.6874],\n",
       "         [-3.1575, -3.4732, -2.6166, -0.0762, -3.3703, -1.6888,  1.3129,\n",
       "          11.0092],\n",
       "         [-3.1442, -3.4070, -3.2636, -1.1773, -2.4169, -1.3162,  2.6100,\n",
       "          10.7286],\n",
       "         [-2.9667, -3.9679, -3.1377, -0.5793, -2.5921, -1.6259,  2.5146,\n",
       "          10.3940],\n",
       "         [-3.1273, -1.7975, -2.7044, -0.4149, -1.9276, -0.3798,  1.3976,\n",
       "           8.2792],\n",
       "         [-3.1277, -1.7981, -2.7052, -0.4151, -1.9282, -0.3796,  1.3982,\n",
       "           8.2808],\n",
       "         [-3.1277, -1.7981, -2.7052, -0.4151, -1.9282, -0.3796,  1.3982,\n",
       "           8.2808],\n",
       "         [-3.1277, -1.7981, -2.7052, -0.4151, -1.9282, -0.3796,  1.3982,\n",
       "           8.2808],\n",
       "         [-3.1277, -1.7981, -2.7052, -0.4151, -1.9282, -0.3796,  1.3982,\n",
       "           8.2808],\n",
       "         [-3.1277, -1.7981, -2.7052, -0.4151, -1.9282, -0.3796,  1.3982,\n",
       "           8.2808],\n",
       "         [-3.1277, -1.7981, -2.7052, -0.4151, -1.9282, -0.3796,  1.3982,\n",
       "           8.2808],\n",
       "         [-3.1277, -1.7981, -2.7052, -0.4151, -1.9282, -0.3796,  1.3982,\n",
       "           8.2808],\n",
       "         [-3.1277, -1.7981, -2.7052, -0.4151, -1.9282, -0.3796,  1.3982,\n",
       "           8.2808],\n",
       "         [-3.1277, -1.7981, -2.7052, -0.4151, -1.9282, -0.3796,  1.3982,\n",
       "           8.2808],\n",
       "         [-3.1277, -1.7981, -2.7052, -0.4151, -1.9282, -0.3796,  1.3982,\n",
       "           8.2808],\n",
       "         [-3.1277, -1.7981, -2.7052, -0.4151, -1.9282, -0.3796,  1.3982,\n",
       "           8.2808],\n",
       "         [-3.1277, -1.7981, -2.7052, -0.4151, -1.9282, -0.3796,  1.3982,\n",
       "           8.2808],\n",
       "         [-3.1277, -1.7981, -2.7052, -0.4151, -1.9282, -0.3796,  1.3982,\n",
       "           8.2808]]], grad_fn=<SliceBackward0>)"
      ]
     },
     "execution_count": 192,
     "metadata": {},
     "output_type": "execute_result"
    }
   ],
   "source": [
    "logits[0::]"
   ]
  },
  {
   "cell_type": "code",
   "execution_count": 193,
   "id": "6ce990da",
   "metadata": {},
   "outputs": [
    {
     "name": "stdout",
     "output_type": "stream",
     "text": [
      "tensor([[6, 6, 6, 6, 6, 7, 7, 7, 3, 3, 3, 3, 3, 3, 3, 3, 3, 3],\n",
      "        [7, 7, 7, 7, 7, 7, 7, 7, 7, 7, 7, 7, 7, 7, 7, 7, 7, 7]])\n"
     ]
    }
   ],
   "source": [
    "predicted_label_classes = logits.argmax(-1)\n",
    "print(predicted_label_classes)"
   ]
  },
  {
   "cell_type": "code",
   "execution_count": 194,
   "id": "98bc2e1c",
   "metadata": {},
   "outputs": [
    {
     "data": {
      "text/plain": [
       "{'input_ids': tensor([[     0,  58807, 182359,  20756,    164,  62122,     13,    253,     87,\n",
       "           5704,     53,      9,   7102,      9,    184,   1212,      5,      2],\n",
       "        [     0,  26913,   1552,  33009,      2,      1,      1,      1,      1,\n",
       "              1,      1,      1,      1,      1,      1,      1,      1,      1]]), 'attention_mask': tensor([[1, 1, 1, 1, 1, 1, 1, 1, 1, 1, 1, 1, 1, 1, 1, 1, 1, 1],\n",
       "        [1, 1, 1, 1, 1, 0, 0, 0, 0, 0, 0, 0, 0, 0, 0, 0, 0, 0]])}"
      ]
     },
     "execution_count": 194,
     "metadata": {},
     "output_type": "execute_result"
    }
   ],
   "source": [
    "encoding"
   ]
  },
  {
   "cell_type": "code",
   "execution_count": 195,
   "id": "3b50b79f",
   "metadata": {},
   "outputs": [
    {
     "ename": "TypeError",
     "evalue": "unhashable type: 'list'",
     "output_type": "error",
     "traceback": [
      "\u001b[0;31m---------------------------------------------------------------------------\u001b[0m",
      "\u001b[0;31mTypeError\u001b[0m                                 Traceback (most recent call last)",
      "Input \u001b[0;32mIn [195]\u001b[0m, in \u001b[0;36m<cell line: 1>\u001b[0;34m()\u001b[0m\n\u001b[0;32m----> 1\u001b[0m predicted_labels \u001b[38;5;241m=\u001b[39m [model\u001b[38;5;241m.\u001b[39mconfig\u001b[38;5;241m.\u001b[39mid2label[\u001b[38;5;28mid\u001b[39m] \u001b[38;5;28;01mfor\u001b[39;00m \u001b[38;5;28mid\u001b[39m \u001b[38;5;129;01min\u001b[39;00m predicted_label_classes\u001b[38;5;241m.\u001b[39msqueeze()\u001b[38;5;241m.\u001b[39mtolist()]\n\u001b[1;32m      2\u001b[0m \u001b[38;5;28mprint\u001b[39m(predicted_labels)\n",
      "Input \u001b[0;32mIn [195]\u001b[0m, in \u001b[0;36m<listcomp>\u001b[0;34m(.0)\u001b[0m\n\u001b[0;32m----> 1\u001b[0m predicted_labels \u001b[38;5;241m=\u001b[39m [\u001b[43mmodel\u001b[49m\u001b[38;5;241;43m.\u001b[39;49m\u001b[43mconfig\u001b[49m\u001b[38;5;241;43m.\u001b[39;49m\u001b[43mid2label\u001b[49m\u001b[43m[\u001b[49m\u001b[38;5;28;43mid\u001b[39;49m\u001b[43m]\u001b[49m \u001b[38;5;28;01mfor\u001b[39;00m \u001b[38;5;28mid\u001b[39m \u001b[38;5;129;01min\u001b[39;00m predicted_label_classes\u001b[38;5;241m.\u001b[39msqueeze()\u001b[38;5;241m.\u001b[39mtolist()]\n\u001b[1;32m      2\u001b[0m \u001b[38;5;28mprint\u001b[39m(predicted_labels)\n",
      "\u001b[0;31mTypeError\u001b[0m: unhashable type: 'list'"
     ]
    }
   ],
   "source": [
    "predicted_labels = [model.config.id2label[id] for id in predicted_label_classes.squeeze().tolist()]\n",
    "print(predicted_labels)"
   ]
  },
  {
   "cell_type": "code",
   "execution_count": 157,
   "id": "0769564d",
   "metadata": {
    "collapsed": true
   },
   "outputs": [
    {
     "data": {
      "text/plain": [
       "XLMRobertaConfig {\n",
       "  \"_name_or_path\": \"xlm-roberta-large-finetuned-conll03-english\",\n",
       "  \"_num_labels\": 8,\n",
       "  \"architectures\": [\n",
       "    \"XLMRobertaForTokenClassification\"\n",
       "  ],\n",
       "  \"attention_probs_dropout_prob\": 0.1,\n",
       "  \"bos_token_id\": 0,\n",
       "  \"classifier_dropout\": null,\n",
       "  \"eos_token_id\": 2,\n",
       "  \"hidden_act\": \"gelu\",\n",
       "  \"hidden_dropout_prob\": 0.1,\n",
       "  \"hidden_size\": 1024,\n",
       "  \"id2label\": {\n",
       "    \"0\": \"B-LOC\",\n",
       "    \"1\": \"B-MISC\",\n",
       "    \"2\": \"B-ORG\",\n",
       "    \"3\": \"I-LOC\",\n",
       "    \"4\": \"I-MISC\",\n",
       "    \"5\": \"I-ORG\",\n",
       "    \"6\": \"I-PER\",\n",
       "    \"7\": \"O\"\n",
       "  },\n",
       "  \"initializer_range\": 0.02,\n",
       "  \"intermediate_size\": 4096,\n",
       "  \"label2id\": {\n",
       "    \"B-LOC\": 0,\n",
       "    \"B-MISC\": 1,\n",
       "    \"B-ORG\": 2,\n",
       "    \"I-LOC\": 3,\n",
       "    \"I-MISC\": 4,\n",
       "    \"I-ORG\": 5,\n",
       "    \"I-PER\": 6,\n",
       "    \"O\": 7\n",
       "  },\n",
       "  \"layer_norm_eps\": 1e-05,\n",
       "  \"max_position_embeddings\": 514,\n",
       "  \"model_type\": \"xlm-roberta\",\n",
       "  \"num_attention_heads\": 16,\n",
       "  \"num_hidden_layers\": 24,\n",
       "  \"output_past\": true,\n",
       "  \"pad_token_id\": 1,\n",
       "  \"position_embedding_type\": \"absolute\",\n",
       "  \"transformers_version\": \"4.22.2\",\n",
       "  \"type_vocab_size\": 1,\n",
       "  \"use_cache\": true,\n",
       "  \"vocab_size\": 250002\n",
       "}"
      ]
     },
     "execution_count": 157,
     "metadata": {},
     "output_type": "execute_result"
    }
   ],
   "source": [
    "model.config"
   ]
  },
  {
   "cell_type": "code",
   "execution_count": 158,
   "id": "bc660d24",
   "metadata": {},
   "outputs": [
    {
     "name": "stdout",
     "output_type": "stream",
     "text": [
      "<s> I-PER\n",
      "Pierre I-PER\n",
      "Bourg I-PER\n",
      "eo I-PER\n",
      "is I-PER\n",
      "habit O\n",
      "e O\n",
      "à O\n",
      "I I-LOC\n",
      "vr I-LOC\n",
      "y I-LOC\n",
      "- I-LOC\n",
      "sur I-LOC\n",
      "- I-LOC\n",
      "se I-LOC\n",
      "ine I-LOC\n",
      ". I-LOC\n",
      "</s> I-LOC\n"
     ]
    }
   ],
   "source": [
    "for id, label in zip(encoding.input_ids.squeeze().tolist(), predicted_labels):\n",
    "  print(tokenizer.decode([id]), label)"
   ]
  }
 ],
 "metadata": {
  "kernelspec": {
   "display_name": "base",
   "language": "python",
   "name": "base"
  },
  "language_info": {
   "codemirror_mode": {
    "name": "ipython",
    "version": 3
   },
   "file_extension": ".py",
   "mimetype": "text/x-python",
   "name": "python",
   "nbconvert_exporter": "python",
   "pygments_lexer": "ipython3",
   "version": "3.9.12"
  }
 },
 "nbformat": 4,
 "nbformat_minor": 5
}
