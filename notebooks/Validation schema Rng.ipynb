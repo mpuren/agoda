{
 "cells": [
  {
   "cell_type": "code",
   "execution_count": 3,
   "id": "d6adfe59",
   "metadata": {},
   "outputs": [
    {
     "name": "stdout",
     "output_type": "stream",
     "text": [
      "Le document est invalide selon le schéma Relax NG :\n",
      "Ligne 30, Colonne 0: Expecting an element , got nothing\n",
      "Ligne 43, Colonne 0: Element extent has extra content: measure\n",
      "Ligne 90, Colonne 0: Did not expect element projetDesc there\n",
      "Ligne 106, Colonne 0: Invalid attribute type for element name\n",
      "Ligne 107, Colonne 0: Invalid attribute type for element name\n",
      "Ligne 108, Colonne 0: Invalid attribute type for element name\n",
      "Ligne 113, Colonne 0: Did not expect element body there\n",
      "Ligne 115, Colonne 0: Element pb has extra content: text\n",
      "Ligne 114, Colonne 0: Did not expect element pb there\n",
      "Ligne 114, Colonne 0: Element body failed to validate content\n"
     ]
    }
   ],
   "source": [
    "# fonction pour valider mon fichier xml grace au shema rng\n",
    "\n",
    "from lxml import etree\n",
    "\n",
    "# Charger le schéma Relax NG\n",
    "\n",
    "rng_file = \"C:/Users/brune/Desktop/stage_AGODA/agoda_schema.rng\"\n",
    "relaxng = etree.RelaxNG(etree.parse(rng_file))\n",
    "\n",
    "#schema = etree.RelaxNG(etree.parse('agoda_schema.rng'))\n",
    "\n",
    "# Charger et parser le document XML\n",
    "document = etree.parse(\"C:/Users/brune/Desktop/stage_AGODA/xml_data/FR_3R_5L_1889-11-26_p0177.xml\")\n",
    "\n",
    "# Valider le document XML par rapport au schéma Relax NG\n",
    "try:\n",
    "    relaxng.assertValid(document)\n",
    "    print(\"Le document est valide selon le schéma Relax NG.\")\n",
    "except etree.DocumentInvalid as e:\n",
    "    print(\"Le document est invalide selon le schéma Relax NG :\")\n",
    "    for error in relaxng.error_log:\n",
    "        print(\"Ligne {}, Colonne {}: {}\".format(error.line, error.column, error.message))\n",
    "    \n"
   ]
  },
  {
   "cell_type": "code",
   "execution_count": 2,
   "id": "fbf8cc61",
   "metadata": {},
   "outputs": [
    {
     "name": "stdout",
     "output_type": "stream",
     "text": [
      "Le document XML est valide par rapport au schéma RNG.\n"
     ]
    }
   ],
   "source": [
    "from lxml import etree\n",
    "\n",
    "# Charger le schéma RNG\n",
    "schema = etree.RelaxNG(etree.fromstring(open('schema.rng').read()))\n",
    "\n",
    "# Charger le fichier XML\n",
    "xml_doc = etree.fromstring(open('livre.xml').read())\n",
    "\n",
    "# Valider le document XML par rapport au schéma RNG\n",
    "result = schema.validate(xml_doc)\n",
    "\n",
    "# Vérifier si le document XML est valide ou non\n",
    "if result:\n",
    "    print(\"Le document XML est valide par rapport au schéma RNG.\")\n",
    "else:\n",
    "    print(\"Le document XML est invalide par rapport au schéma RNG.\")\n"
   ]
  },
  {
   "cell_type": "code",
   "execution_count": 25,
   "id": "b35a63f7",
   "metadata": {},
   "outputs": [
    {
     "name": "stdout",
     "output_type": "stream",
     "text": [
      "Le fichier XML est valide par rapport au schéma RNG.\n"
     ]
    }
   ],
   "source": [
    "from lxml import etree\n",
    "\n",
    "# Charger le fichier RNG\n",
    "rng_file = 'C:/Users/brune/Desktop/stage_AGODA/schema.rng'\n",
    "rng_doc = etree.parse(rng_file)\n",
    "rng = etree.RelaxNG(rng_doc)\n",
    "\n",
    "# Charger le fichier XML à valider\n",
    "xml_file = 'C:/Users/brune/Desktop/stage_AGODA/livre.xml'\n",
    "xml_doc = etree.parse(xml_file)\n",
    "\n",
    "# Valider le fichier XML par rapport au schéma RNG\n",
    "if rng.validate(xml_doc):\n",
    "    print(\"Le fichier XML est valide par rapport au schéma RNG.\")\n",
    "else:\n",
    "    print(\"Le fichier XML est invalide par rapport au schéma RNG.\")\n"
   ]
  },
  {
   "cell_type": "code",
   "execution_count": null,
   "id": "4dcafec5",
   "metadata": {},
   "outputs": [],
   "source": []
  }
 ],
 "metadata": {
  "hide_input": false,
  "kernelspec": {
   "display_name": "Python 3 (ipykernel)",
   "language": "python",
   "name": "python3"
  },
  "language_info": {
   "codemirror_mode": {
    "name": "ipython",
    "version": 3
   },
   "file_extension": ".py",
   "mimetype": "text/x-python",
   "name": "python",
   "nbconvert_exporter": "python",
   "pygments_lexer": "ipython3",
   "version": "3.10.8"
  }
 },
 "nbformat": 4,
 "nbformat_minor": 5
}
