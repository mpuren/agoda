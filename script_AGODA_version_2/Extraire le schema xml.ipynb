{
 "cells": [
  {
   "cell_type": "code",
   "execution_count": 6,
   "id": "dcc5b8a5",
   "metadata": {
    "scrolled": true
   },
   "outputs": [],
   "source": [
    "import os\n",
    "import xml.etree.ElementTree as ET\n",
    "\n",
    "dossier_xml = os.path.join(os.getcwd())\n",
    "chemin_fichier = os.path.join(dossier_xml, \"FR_3R_5L_1889-11-26.xml\")\n",
    "# Charger le fichier XML\n",
    "tree = ET.parse(chemin_fichier)\n",
    "\n",
    "# Obtenir la racine de l'arbre XML\n",
    "root = tree.getroot()\n",
    "\n",
    "# Afficher la structure XML sans le texte\n",
    "def print_xml_structure(element, indent=\"\"):\n",
    "    tag = element.tag.split(\"}\")[1]  # Supprimer le namespace\n",
    "    print(f\"{indent}<{tag}>\")\n",
    "    for child in element:\n",
    "        print_xml_structure(child, indent + \"  \")\n",
    "    print(f\"{indent}</{tag}>\")\n",
    "\n",
    "def remove_text_from_xml(element):\n",
    "    element.text = None\n",
    "    for child in element:\n",
    "        remove_text_from_xml(child)\n",
    "        child.tag = child.tag.split(\"}\")[1]  # Supprimer le préfixe du tag\n",
    "\n",
    "remove_text_from_xml(root)\n",
    "# print_xml_structure(root)\n",
    "\n",
    "modified_tree = ET.ElementTree(root)\n",
    "\n",
    "# Enregistrer le contenu dans un fichier XML\n",
    "modified_tree.write(\"structure.xml\", encoding=\"utf-8\", xml_declaration=True)\n"
   ]
  },
  {
   "cell_type": "code",
   "execution_count": null,
   "id": "28d14338",
   "metadata": {},
   "outputs": [],
   "source": []
  }
 ],
 "metadata": {
  "hide_input": false,
  "kernelspec": {
   "display_name": "Python 3 (ipykernel)",
   "language": "python",
   "name": "python3"
  },
  "language_info": {
   "codemirror_mode": {
    "name": "ipython",
    "version": 3
   },
   "file_extension": ".py",
   "mimetype": "text/x-python",
   "name": "python",
   "nbconvert_exporter": "python",
   "pygments_lexer": "ipython3",
   "version": "3.9.16"
  }
 },
 "nbformat": 4,
 "nbformat_minor": 5
}
